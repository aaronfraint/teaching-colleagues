{
 "cells": [
  {
   "cell_type": "code",
   "execution_count": 1,
   "metadata": {},
   "outputs": [
    {
     "name": "stdout",
     "output_type": "stream",
     "text": [
      "/Volumes/SanDisk2TB/code/teaching-colleagues\n",
      "/Volumes/SanDisk2TB/Miniconda/miniconda3/envs/network_routing/lib/python38.zip\n",
      "/Volumes/SanDisk2TB/Miniconda/miniconda3/envs/network_routing/lib/python3.8\n",
      "/Volumes/SanDisk2TB/Miniconda/miniconda3/envs/network_routing/lib/python3.8/lib-dynload\n",
      "\n",
      "/Volumes/SanDisk2TB/Miniconda/miniconda3/envs/network_routing/lib/python3.8/site-packages\n",
      "/Volumes/SanDisk2TB/code/network-routing\n",
      "/Volumes/SanDisk2TB/Miniconda/miniconda3/envs/network_routing/lib/python3.8/site-packages/IPython/extensions\n",
      "/Users/aaron/.ipython\n"
     ]
    }
   ],
   "source": [
    "import sys\n",
    "\n",
    "for p in sys.path:\n",
    "    print(p)"
   ]
  }
 ],
 "metadata": {
  "kernelspec": {
   "display_name": "Python 3",
   "language": "python",
   "name": "python3"
  },
  "language_info": {
   "codemirror_mode": {
    "name": "ipython",
    "version": 3
   },
   "file_extension": ".py",
   "mimetype": "text/x-python",
   "name": "python",
   "nbconvert_exporter": "python",
   "pygments_lexer": "ipython3",
   "version": "3.8.3"
  }
 },
 "nbformat": 4,
 "nbformat_minor": 4
}
