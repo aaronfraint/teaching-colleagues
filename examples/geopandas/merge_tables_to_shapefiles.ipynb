{
 "cells": [
  {
   "cell_type": "markdown",
   "metadata": {},
   "source": [
    "# Loading GIS shapes and joining to tabular data\n",
    "\n",
    "Using `geopandas`, `pandas`, and `pathlib`\n",
    "\n",
    "Purpose:\n",
    "\n",
    "- GIS layers have a `joinid` that corresponds to a `LocationID` for a single planned or anticipated development\n",
    "\n",
    "- Each `LocationID` has a `PlanID` that identifies the document where the geometry was pulled from\n",
    "\n",
    "This process will use two joins for each shapefile: \n",
    "- first the project info to the GIS layers\n",
    "- then join the plan info\n",
    "\n",
    "Each resulting geodataframe is then written to disk for cartography."
   ]
  },
  {
   "cell_type": "code",
   "execution_count": 1,
   "metadata": {},
   "outputs": [],
   "source": [
    "import geopandas as gpd\n",
    "import pandas as pd\n",
    "from pathlib import Path"
   ]
  },
  {
   "cell_type": "code",
   "execution_count": 2,
   "metadata": {},
   "outputs": [],
   "source": [
    "folder = \"/Volumes/GoogleDrive/Shared drives/U_City_FY_21/Data/GIS/ExistingConditions/v2\"\n",
    "\n",
    "folder = Path(folder)"
   ]
  },
  {
   "cell_type": "code",
   "execution_count": 3,
   "metadata": {},
   "outputs": [],
   "source": [
    "csv_projects = folder / \"project_ids.csv\"\n",
    "csv_plans = folder / \"plan_ids.csv\"\n",
    "\n",
    "df_plans = pd.read_csv(csv_plans)\n",
    "df_projects = pd.read_csv(csv_projects)"
   ]
  },
  {
   "cell_type": "code",
   "execution_count": 4,
   "metadata": {},
   "outputs": [],
   "source": [
    "def double_join(shp_path, df_projects, df_plans):\n",
    "    \n",
    "    # Read the raw shapefile with geopandas\n",
    "    gdf = gpd.read_file(shp_path)\n",
    "\n",
    "    # Merge the \"Project\" table\n",
    "    first_merge = gdf.merge(df_projects, left_on=\"joinid\", right_on=\"LocationID\")\n",
    "\n",
    "    # Merge the \"Plan\" table\n",
    "    second_merge = first_merge.merge(df_plans, left_on=\"PlanID\", right_on=\"PlanID\")\n",
    "    \n",
    "    # Define the output filename\n",
    "    output_path = str(shp).replace(\"existing_\", \"existing_joined_\")\n",
    "\n",
    "    second_merge.to_file(output_path)\n",
    "    \n",
    "    return second_merge\n"
   ]
  },
  {
   "cell_type": "code",
   "execution_count": 5,
   "metadata": {},
   "outputs": [],
   "source": [
    "shapefiles = folder.rglob(\"*.shp\")\n",
    "for shp in shapefiles:\n",
    "    if \"_joined_\" not in str(shp):\n",
    "        _ = double_join(shp, df_projects, df_plans)"
   ]
  }
 ],
 "metadata": {
  "kernelspec": {
   "display_name": "Python 3",
   "language": "python",
   "name": "python3"
  },
  "language_info": {
   "codemirror_mode": {
    "name": "ipython",
    "version": 3
   },
   "file_extension": ".py",
   "mimetype": "text/x-python",
   "name": "python",
   "nbconvert_exporter": "python",
   "pygments_lexer": "ipython3",
   "version": "3.8.6"
  }
 },
 "nbformat": 4,
 "nbformat_minor": 4
}
