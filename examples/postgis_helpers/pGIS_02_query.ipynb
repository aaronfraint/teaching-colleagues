{
 "cells": [
  {
   "cell_type": "markdown",
   "metadata": {},
   "source": [
    "# Connect to the database and print out a list of all spatial tables available\n",
    "\n",
    "Note that it also prints out the projection of each. One table uses `4326` and the other uses `2272`."
   ]
  },
  {
   "cell_type": "code",
   "execution_count": 32,
   "metadata": {},
   "outputs": [
    {
     "name": "stdout",
     "output_type": "stream",
     "text": [
      "🏄🌊 example_db @ localhost 🌊🌊\n"
     ]
    },
    {
     "data": {
      "text/plain": [
       "{'phl_vision_zero_2017': 4326, 'phl_neighborhoods': 2272}"
      ]
     },
     "execution_count": 32,
     "metadata": {},
     "output_type": "execute_result"
    }
   ],
   "source": [
    "from postgis_helpers import PostgreSQL\n",
    "import matplotlib.pyplot as plt\n",
    "\n",
    "db = PostgreSQL(\"example_db\", verbosity=\"minimal\")\n",
    "\n",
    "db.all_spatial_tables_as_dict()"
   ]
  },
  {
   "cell_type": "markdown",
   "metadata": {},
   "source": [
    "## Read in the neighborhood data\n",
    "\n",
    "And use geopandas `.to_crs()` to reproject to `4326`"
   ]
  },
  {
   "cell_type": "code",
   "execution_count": 16,
   "metadata": {},
   "outputs": [
    {
     "data": {
      "text/html": [
       "<div>\n",
       "<style scoped>\n",
       "    .dataframe tbody tr th:only-of-type {\n",
       "        vertical-align: middle;\n",
       "    }\n",
       "\n",
       "    .dataframe tbody tr th {\n",
       "        vertical-align: top;\n",
       "    }\n",
       "\n",
       "    .dataframe thead th {\n",
       "        text-align: right;\n",
       "    }\n",
       "</style>\n",
       "<table border=\"1\" class=\"dataframe\">\n",
       "  <thead>\n",
       "    <tr style=\"text-align: right;\">\n",
       "      <th></th>\n",
       "      <th>gid</th>\n",
       "      <th>level_0</th>\n",
       "      <th>level_1</th>\n",
       "      <th>name</th>\n",
       "      <th>listname</th>\n",
       "      <th>mapname</th>\n",
       "      <th>shape_leng</th>\n",
       "      <th>shape_area</th>\n",
       "      <th>explode</th>\n",
       "      <th>geom</th>\n",
       "      <th>uid</th>\n",
       "    </tr>\n",
       "  </thead>\n",
       "  <tbody>\n",
       "    <tr>\n",
       "      <th>0</th>\n",
       "      <td>0</td>\n",
       "      <td>0</td>\n",
       "      <td>0</td>\n",
       "      <td>BRIDESBURG</td>\n",
       "      <td>Bridesburg</td>\n",
       "      <td>Bridesburg</td>\n",
       "      <td>27814.546521</td>\n",
       "      <td>4.458626e+07</td>\n",
       "      <td>(0,0)</td>\n",
       "      <td>POLYGON ((-75.06773 40.00540, -75.06765 40.005...</td>\n",
       "      <td>1</td>\n",
       "    </tr>\n",
       "    <tr>\n",
       "      <th>1</th>\n",
       "      <td>1</td>\n",
       "      <td>1</td>\n",
       "      <td>0</td>\n",
       "      <td>BUSTLETON</td>\n",
       "      <td>Bustleton</td>\n",
       "      <td>Bustleton</td>\n",
       "      <td>48868.458365</td>\n",
       "      <td>1.140504e+08</td>\n",
       "      <td>(1,0)</td>\n",
       "      <td>POLYGON ((-75.01560 40.09487, -75.01768 40.092...</td>\n",
       "      <td>2</td>\n",
       "    </tr>\n",
       "    <tr>\n",
       "      <th>2</th>\n",
       "      <td>2</td>\n",
       "      <td>2</td>\n",
       "      <td>0</td>\n",
       "      <td>CEDARBROOK</td>\n",
       "      <td>Cedarbrook</td>\n",
       "      <td>Cedarbrook</td>\n",
       "      <td>20021.415802</td>\n",
       "      <td>2.487174e+07</td>\n",
       "      <td>(2,0)</td>\n",
       "      <td>POLYGON ((-75.18848 40.07273, -75.18846 40.072...</td>\n",
       "      <td>3</td>\n",
       "    </tr>\n",
       "    <tr>\n",
       "      <th>3</th>\n",
       "      <td>3</td>\n",
       "      <td>3</td>\n",
       "      <td>0</td>\n",
       "      <td>CHESTNUT_HILL</td>\n",
       "      <td>Chestnut Hill</td>\n",
       "      <td>Chestnut Hill</td>\n",
       "      <td>56394.297195</td>\n",
       "      <td>7.966498e+07</td>\n",
       "      <td>(3,0)</td>\n",
       "      <td>POLYGON ((-75.21221 40.08604, -75.21210 40.086...</td>\n",
       "      <td>4</td>\n",
       "    </tr>\n",
       "    <tr>\n",
       "      <th>4</th>\n",
       "      <td>4</td>\n",
       "      <td>4</td>\n",
       "      <td>0</td>\n",
       "      <td>EAST_FALLS</td>\n",
       "      <td>East Falls</td>\n",
       "      <td>East Falls</td>\n",
       "      <td>27400.776417</td>\n",
       "      <td>4.057689e+07</td>\n",
       "      <td>(4,0)</td>\n",
       "      <td>POLYGON ((-75.18478 40.02837, -75.18426 40.027...</td>\n",
       "      <td>5</td>\n",
       "    </tr>\n",
       "  </tbody>\n",
       "</table>\n",
       "</div>"
      ],
      "text/plain": [
       "   gid  level_0  level_1  ... explode                                               geom uid\n",
       "0    0        0        0  ...   (0,0)  POLYGON ((-75.06773 40.00540, -75.06765 40.005...   1\n",
       "1    1        1        0  ...   (1,0)  POLYGON ((-75.01560 40.09487, -75.01768 40.092...   2\n",
       "2    2        2        0  ...   (2,0)  POLYGON ((-75.18848 40.07273, -75.18846 40.072...   3\n",
       "3    3        3        0  ...   (3,0)  POLYGON ((-75.21221 40.08604, -75.21210 40.086...   4\n",
       "4    4        4        0  ...   (4,0)  POLYGON ((-75.18478 40.02837, -75.18426 40.027...   5\n",
       "\n",
       "[5 rows x 11 columns]"
      ]
     },
     "execution_count": 16,
     "metadata": {},
     "output_type": "execute_result"
    }
   ],
   "source": [
    "nhoods = db.query_as_geo_df(\"SELECT * FROM phl_neighborhoods\")\n",
    "\n",
    "nhoods = nhoods.to_crs(\"EPSG:4326\")\n",
    "\n",
    "nhoods.head()"
   ]
  },
  {
   "cell_type": "markdown",
   "metadata": {},
   "source": [
    "## Read the vision zero corridor data"
   ]
  },
  {
   "cell_type": "code",
   "execution_count": 11,
   "metadata": {},
   "outputs": [
    {
     "data": {
      "text/html": [
       "<div>\n",
       "<style scoped>\n",
       "    .dataframe tbody tr th:only-of-type {\n",
       "        vertical-align: middle;\n",
       "    }\n",
       "\n",
       "    .dataframe tbody tr th {\n",
       "        vertical-align: top;\n",
       "    }\n",
       "\n",
       "    .dataframe thead th {\n",
       "        text-align: right;\n",
       "    }\n",
       "</style>\n",
       "<table border=\"1\" class=\"dataframe\">\n",
       "  <thead>\n",
       "    <tr style=\"text-align: right;\">\n",
       "      <th></th>\n",
       "      <th>gid</th>\n",
       "      <th>level_0</th>\n",
       "      <th>level_1</th>\n",
       "      <th>objectid</th>\n",
       "      <th>stname</th>\n",
       "      <th>explode</th>\n",
       "      <th>geom</th>\n",
       "      <th>uid</th>\n",
       "    </tr>\n",
       "  </thead>\n",
       "  <tbody>\n",
       "    <tr>\n",
       "      <th>0</th>\n",
       "      <td>0</td>\n",
       "      <td>0</td>\n",
       "      <td>0</td>\n",
       "      <td>1</td>\n",
       "      <td>ACADEMY RD</td>\n",
       "      <td>(0,0)</td>\n",
       "      <td>LINESTRING (-75.00789 40.05238, -75.00829 40.0...</td>\n",
       "      <td>1</td>\n",
       "    </tr>\n",
       "    <tr>\n",
       "      <th>1</th>\n",
       "      <td>1</td>\n",
       "      <td>1</td>\n",
       "      <td>0</td>\n",
       "      <td>2</td>\n",
       "      <td>ADAMS AVE</td>\n",
       "      <td>(1,0)</td>\n",
       "      <td>LINESTRING (-75.11355 40.04271, -75.11344 40.0...</td>\n",
       "      <td>2</td>\n",
       "    </tr>\n",
       "    <tr>\n",
       "      <th>2</th>\n",
       "      <td>2</td>\n",
       "      <td>2</td>\n",
       "      <td>0</td>\n",
       "      <td>3</td>\n",
       "      <td>ARAMINGO AVE</td>\n",
       "      <td>(2,0)</td>\n",
       "      <td>LINESTRING (-75.10390 39.98980, -75.10160 39.9...</td>\n",
       "      <td>3</td>\n",
       "    </tr>\n",
       "    <tr>\n",
       "      <th>3</th>\n",
       "      <td>3</td>\n",
       "      <td>3</td>\n",
       "      <td>0</td>\n",
       "      <td>4</td>\n",
       "      <td>ARAMINGO AVE</td>\n",
       "      <td>(3,0)</td>\n",
       "      <td>LINESTRING (-75.12399 39.97258, -75.12391 39.9...</td>\n",
       "      <td>4</td>\n",
       "    </tr>\n",
       "    <tr>\n",
       "      <th>4</th>\n",
       "      <td>4</td>\n",
       "      <td>4</td>\n",
       "      <td>0</td>\n",
       "      <td>5</td>\n",
       "      <td>ARAMINGO AVE</td>\n",
       "      <td>(4,0)</td>\n",
       "      <td>LINESTRING (-75.07748 40.00414, -75.07662 40.0...</td>\n",
       "      <td>5</td>\n",
       "    </tr>\n",
       "  </tbody>\n",
       "</table>\n",
       "</div>"
      ],
      "text/plain": [
       "   gid  level_0  level_1  ...  explode                                               geom uid\n",
       "0    0        0        0  ...    (0,0)  LINESTRING (-75.00789 40.05238, -75.00829 40.0...   1\n",
       "1    1        1        0  ...    (1,0)  LINESTRING (-75.11355 40.04271, -75.11344 40.0...   2\n",
       "2    2        2        0  ...    (2,0)  LINESTRING (-75.10390 39.98980, -75.10160 39.9...   3\n",
       "3    3        3        0  ...    (3,0)  LINESTRING (-75.12399 39.97258, -75.12391 39.9...   4\n",
       "4    4        4        0  ...    (4,0)  LINESTRING (-75.07748 40.00414, -75.07662 40.0...   5\n",
       "\n",
       "[5 rows x 8 columns]"
      ]
     },
     "execution_count": 11,
     "metadata": {},
     "output_type": "execute_result"
    }
   ],
   "source": [
    "vz_corridors = db.query_as_geo_df(\"SELECT * FROM phl_vision_zero_2017\")\n",
    "\n",
    "vz_corridors.head()"
   ]
  },
  {
   "cell_type": "markdown",
   "metadata": {},
   "source": [
    "# Use `matplotlib.pyplot` to overlay & view the two datasets in a notebook"
   ]
  },
  {
   "cell_type": "code",
   "execution_count": 29,
   "metadata": {},
   "outputs": [
    {
     "data": {
      "image/png": "[encoded data removed]",
      "text/plain": [
       "<Figure size 432x288 with 1 Axes>"
      ]
     },
     "metadata": {
      "needs_background": "light"
     },
     "output_type": "display_data"
    }
   ],
   "source": [
    "# Create the figure\n",
    "f, ax = plt.subplots(1)\n",
    "\n",
    "# Add each layer to the figure\n",
    "nhoods.plot(ax=ax, color=\"black\", edgecolor=\"gray\")\n",
    "vz_corridors.plot(ax=ax, color=\"cyan\")\n",
    "\n",
    "\n",
    "plt.show()"
   ]
  }
 ],
 "metadata": {
  "kernelspec": {
   "display_name": "Python 3",
   "language": "python",
   "name": "python3"
  },
  "language_info": {
   "codemirror_mode": {
    "name": "ipython",
    "version": 3
   },
   "file_extension": ".py",
   "mimetype": "text/x-python",
   "name": "python",
   "nbconvert_exporter": "python",
   "pygments_lexer": "ipython3",
   "version": "3.8.6"
  }
 },
 "nbformat": 4,
 "nbformat_minor": 4
}
