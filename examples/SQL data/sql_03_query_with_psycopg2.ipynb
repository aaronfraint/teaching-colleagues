{
 "cells": [
  {
   "cell_type": "markdown",
   "metadata": {},
   "source": [
    "# Use `psycopg2` to get information out of SQL\n",
    "\n",
    "You would choose this approach over `sqlalchemy` if you don't need the result inside a dataframe object."
   ]
  },
  {
   "cell_type": "code",
   "execution_count": 2,
   "metadata": {},
   "outputs": [],
   "source": [
    "import psycopg2"
   ]
  },
  {
   "cell_type": "code",
   "execution_count": 3,
   "metadata": {},
   "outputs": [],
   "source": [
    "MY_DB = \"teaching_bucket\"\n",
    "UN = \"aaron\"\n",
    "PW = \"my_password\"\n",
    "HOST = \"localhost\"\n",
    "\n",
    "db_uri = f\"postgresql://{UN}:{PW}@{HOST}:5432/{MY_DB}\""
   ]
  },
  {
   "cell_type": "markdown",
   "metadata": {},
   "source": [
    "### Execute a query with a single output using `.fetchone()`\n",
    "\n",
    "The output of `.fetchone()` is a tuple that has one object within.\n",
    "\n",
    "Slicing into the tuple on the first element with `result[0]` will give you the actual result"
   ]
  },
  {
   "cell_type": "code",
   "execution_count": 7,
   "metadata": {},
   "outputs": [
    {
     "name": "stdout",
     "output_type": "stream",
     "text": [
      "(11008,)\n",
      "11008\n"
     ]
    }
   ],
   "source": [
    "sql_query_total_stops = \" SELECT COUNT(stop_frisk_id) FROM nyc_stop_frisk_2018 \"\n",
    "\n",
    "connection = psycopg2.connect(db_uri)\n",
    "cursor = connection.cursor()\n",
    "\n",
    "cursor.execute(sql_query_total_stops)\n",
    "total_result = cursor.fetchone()\n",
    "\n",
    "cursor.close()\n",
    "connection.close()\n",
    "\n",
    "print(total_result)\n",
    "print(total_result[0])"
   ]
  },
  {
   "cell_type": "markdown",
   "metadata": {},
   "source": [
    "### Execute a query with a single output using `.fetchall()`\n",
    "\n",
    "Often times your queries will return more than one row, and in this scenario you'd use `.fetchall()`.\n",
    "\n",
    "Note that you can also read a multi-row query with `pandas`. This is illustrated in another notebook: [`sql_03_query_with_sqlalchemy`](sql_03_query_with_sqlalchemy.ipynb)"
   ]
  },
  {
   "cell_type": "code",
   "execution_count": 17,
   "metadata": {},
   "outputs": [
    {
     "name": "stdout",
     "output_type": "stream",
     "text": [
      "Precinct #75 - 432 stop and frisks were conducted\n",
      "Precinct #43 - 396 stop and frisks were conducted\n",
      "Precinct #23 - 347 stop and frisks were conducted\n",
      "Precinct #40 - 311 stop and frisks were conducted\n",
      "Precinct #67 - 289 stop and frisks were conducted\n",
      "Precinct #73 - 283 stop and frisks were conducted\n",
      "Precinct #46 - 269 stop and frisks were conducted\n",
      "Precinct #114 - 254 stop and frisks were conducted\n",
      "Precinct #42 - 254 stop and frisks were conducted\n",
      "Precinct #79 - 230 stop and frisks were conducted\n",
      "Precinct #25 - 223 stop and frisks were conducted\n",
      "Precinct #103 - 221 stop and frisks were conducted\n",
      "Precinct #44 - 221 stop and frisks were conducted\n",
      "Precinct #19 - 217 stop and frisks were conducted\n",
      "Precinct #48 - 207 stop and frisks were conducted\n",
      "Precinct #52 - 207 stop and frisks were conducted\n",
      "Precinct #72 - 193 stop and frisks were conducted\n",
      "Precinct #34 - 188 stop and frisks were conducted\n",
      "Precinct #24 - 184 stop and frisks were conducted\n",
      "Precinct #13 - 181 stop and frisks were conducted\n",
      "Precinct #71 - 179 stop and frisks were conducted\n",
      "Precinct #60 - 174 stop and frisks were conducted\n",
      "Precinct #115 - 166 stop and frisks were conducted\n",
      "Precinct #63 - 163 stop and frisks were conducted\n",
      "Precinct #69 - 157 stop and frisks were conducted\n",
      "Precinct #90 - 152 stop and frisks were conducted\n",
      "Precinct #83 - 146 stop and frisks were conducted\n",
      "Precinct #77 - 143 stop and frisks were conducted\n",
      "Precinct #49 - 142 stop and frisks were conducted\n",
      "Precinct #32 - 140 stop and frisks were conducted\n",
      "Precinct #110 - 139 stop and frisks were conducted\n",
      "Precinct #7 - 138 stop and frisks were conducted\n",
      "Precinct #61 - 137 stop and frisks were conducted\n",
      "Precinct #84 - 133 stop and frisks were conducted\n",
      "Precinct #105 - 132 stop and frisks were conducted\n",
      "Precinct #33 - 128 stop and frisks were conducted\n",
      "Precinct #81 - 123 stop and frisks were conducted\n",
      "Precinct #120 - 122 stop and frisks were conducted\n",
      "Precinct #9 - 118 stop and frisks were conducted\n",
      "Precinct #121 - 116 stop and frisks were conducted\n",
      "Precinct #70 - 115 stop and frisks were conducted\n",
      "Precinct #88 - 109 stop and frisks were conducted\n",
      "Precinct #78 - 109 stop and frisks were conducted\n",
      "Precinct #28 - 108 stop and frisks were conducted\n",
      "Precinct #100 - 106 stop and frisks were conducted\n",
      "Precinct #47 - 104 stop and frisks were conducted\n",
      "Precinct #107 - 103 stop and frisks were conducted\n",
      "Precinct #45 - 103 stop and frisks were conducted\n",
      "Precinct #30 - 103 stop and frisks were conducted\n",
      "Precinct #6 - 103 stop and frisks were conducted\n",
      "Precinct #113 - 102 stop and frisks were conducted\n",
      "Precinct #111 - 101 stop and frisks were conducted\n",
      "Precinct #1 - 99 stop and frisks were conducted\n",
      "Precinct #26 - 97 stop and frisks were conducted\n",
      "Precinct #109 - 97 stop and frisks were conducted\n",
      "Precinct #62 - 97 stop and frisks were conducted\n",
      "Precinct #18 - 96 stop and frisks were conducted\n",
      "Precinct #76 - 94 stop and frisks were conducted\n",
      "Precinct #14 - 91 stop and frisks were conducted\n",
      "Precinct #5 - 87 stop and frisks were conducted\n",
      "Precinct #10 - 83 stop and frisks were conducted\n",
      "Precinct #108 - 77 stop and frisks were conducted\n",
      "Precinct #102 - 77 stop and frisks were conducted\n",
      "Precinct #112 - 76 stop and frisks were conducted\n",
      "Precinct #41 - 72 stop and frisks were conducted\n",
      "Precinct #20 - 71 stop and frisks were conducted\n",
      "Precinct #106 - 70 stop and frisks were conducted\n",
      "Precinct #94 - 69 stop and frisks were conducted\n",
      "Precinct #122 - 66 stop and frisks were conducted\n",
      "Precinct #104 - 64 stop and frisks were conducted\n",
      "Precinct #101 - 63 stop and frisks were conducted\n",
      "Precinct #66 - 55 stop and frisks were conducted\n",
      "Precinct #68 - 50 stop and frisks were conducted\n",
      "Precinct #50 - 45 stop and frisks were conducted\n",
      "Precinct #123 - 36 stop and frisks were conducted\n",
      "Precinct #17 - 31 stop and frisks were conducted\n",
      "Precinct #22 - 24 stop and frisks were conducted\n"
     ]
    }
   ],
   "source": [
    "sql_query_stops_by_precinct = \"\"\"\n",
    "    SELECT stop_location_precinct, COUNT(stop_frisk_id) AS total_stops\n",
    "    FROM nyc_stop_frisk_2018\n",
    "    GROUP BY stop_location_precinct\n",
    "    ORDER BY COUNT(stop_frisk_id) DESC\n",
    "\"\"\"\n",
    "\n",
    "connection = psycopg2.connect(db_uri)\n",
    "cursor = connection.cursor()\n",
    "\n",
    "cursor.execute(sql_query_stops_by_precinct)\n",
    "precinct_result = cursor.fetchall()\n",
    "\n",
    "cursor.close()\n",
    "connection.close()\n",
    "\n",
    "for precinct_id, num_stops in precinct_result:\n",
    "    print(f\"Precinct #{precinct_id} - {num_stops} stop and frisks were conducted\")"
   ]
  }
 ],
 "metadata": {
  "kernelspec": {
   "display_name": "Python 3",
   "language": "python",
   "name": "python3"
  },
  "language_info": {
   "codemirror_mode": {
    "name": "ipython",
    "version": 3
   },
   "file_extension": ".py",
   "mimetype": "text/x-python",
   "name": "python",
   "nbconvert_exporter": "python",
   "pygments_lexer": "ipython3",
   "version": "3.8.6"
  }
 },
 "nbformat": 4,
 "nbformat_minor": 4
}
