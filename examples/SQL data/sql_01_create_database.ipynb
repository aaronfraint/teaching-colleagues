{
 "cells": [
  {
   "cell_type": "markdown",
   "metadata": {},
   "source": [
    "# Make a SQL database using `psycopg2`\n",
    "\n",
    "When you make a database in SQL, you have to execute the command from within a database that already exists.\n",
    "\n",
    "By default every PostgreSQL cluster has a database named `postgres`, so in the code below we connect to that database\n",
    "before issuing the command to create the new database named in the `MY_DB` variable.\n",
    "\n",
    "Note: If the database already exists, this will fail with a `DuplicateDatabase` error"
   ]
  },
  {
   "cell_type": "code",
   "execution_count": 1,
   "metadata": {},
   "outputs": [],
   "source": [
    "import psycopg2"
   ]
  },
  {
   "cell_type": "markdown",
   "metadata": {},
   "source": [
    "### Let's define our connection variables and turn it into a \"connection string\"\n",
    "\n",
    "We're using an \"F-string\" here, which is a new feature that appeared in Python 3.6. It's much more readable than the older style of string substitution."
   ]
  },
  {
   "cell_type": "code",
   "execution_count": 4,
   "metadata": {},
   "outputs": [],
   "source": [
    "MY_DB = \"teaching_bucket\"\n",
    "UN = \"aaron\"\n",
    "PW = \"my_password\"\n",
    "HOST = \"localhost\"\n",
    "\n",
    "connection_string = f\"postgresql://{UN}:{PW}@{HOST}:5432/postgres\""
   ]
  },
  {
   "cell_type": "markdown",
   "metadata": {},
   "source": [
    "### Connect to the database and execute a SQL command to create a new database\n",
    "\n",
    "The raw SQL here is `CREATE DATABASE name_of_database;`\n",
    "\n",
    "The process of doing this from Python includes:\n",
    "- connect with `psycopg2`\n",
    "- create a `cursor()` for the conneection\n",
    "- use the cursor to `execute()` a SQL statement\n",
    "- `close()` the cursor, `commit()` our changes to the connection, then `close()` the connection\n",
    "\n",
    "Note that we've set the \"isolation level\" to `ISOLATION_LEVEL_AUTOCOMMIT`. This is only necessary for certain actions, namely creating a new database."
   ]
  },
  {
   "cell_type": "code",
   "execution_count": 5,
   "metadata": {},
   "outputs": [],
   "source": [
    "connection = psycopg2.connect(connection_string)\n",
    "connection.set_isolation_level(psycopg2.extensions.ISOLATION_LEVEL_AUTOCOMMIT)\n",
    "cursor = connection.cursor()\n",
    "\n",
    "# Execute the CREATE command\n",
    "query_to_make_db = f\"CREATE DATABASE {MY_DB};\"\n",
    "cursor.execute(query_to_make_db)\n",
    "\n",
    "# Commit and close the database connection\n",
    "cursor.close()\n",
    "connection.commit()\n",
    "connection.close()"
   ]
  },
  {
   "cell_type": "markdown",
   "metadata": {},
   "source": [
    "### Load the `PostGIS` extension into the database\n",
    "\n",
    "Assuming your PostgreSQL installation has PostGIS available, a single command will enable the spatial functionality within the database.\n",
    "\n",
    "Note that we're re-defining our connection string to point at the new database, not the `postgres` database we used earlier"
   ]
  },
  {
   "cell_type": "code",
   "execution_count": 9,
   "metadata": {},
   "outputs": [],
   "source": [
    "connection_string = f\"postgresql://{UN}:{PW}@{HOST}:5432/{MY_DB}\"\n",
    "    \n",
    "connection = psycopg2.connect(connection_string)\n",
    "cursor = connection.cursor()\n",
    "\n",
    "cursor.execute(\"CREATE EXTENSION postgis;\")\n",
    "\n",
    "cursor.close()\n",
    "connection.commit()\n",
    "connection.close()"
   ]
  },
  {
   "cell_type": "markdown",
   "metadata": {},
   "source": [
    "### Don't repeat yourself!\n",
    "\n",
    "Imagine a script where you use a lot of SQL commands. Do you really want to type all those cursor, execute, close, and commit commands each time? NO!\n",
    "\n",
    "Here's a function that handles all of the plumbing for you. All you need to provide is the connection string, SQL command, and a True or False if the `ISOLATION_LEVEL_AUTOCOMMIT` is necessary."
   ]
  },
  {
   "cell_type": "code",
   "execution_count": 10,
   "metadata": {},
   "outputs": [],
   "source": [
    "def execute_sql(connection_str, sql_statement, autocommit=False):\n",
    "\n",
    "    connection = psycopg2.connect(connection_str)\n",
    "    if autocommit:\n",
    "        connection.set_isolation_level(psycopg2.extensions.ISOLATION_LEVEL_AUTOCOMMIT)\n",
    "    \n",
    "    cursor = connection.cursor()\n",
    "\n",
    "    cursor.execute(sql_statement)\n",
    "\n",
    "    cursor.close()\n",
    "    connection.commit()\n",
    "    connection.close()"
   ]
  },
  {
   "cell_type": "markdown",
   "metadata": {},
   "source": [
    "### Let's use our new function to load the UUID extension"
   ]
  },
  {
   "cell_type": "code",
   "execution_count": 11,
   "metadata": {},
   "outputs": [],
   "source": [
    "execute_sql(connection_string, 'CREATE EXTENSION IF NOT EXISTS \"uuid-ossp\";')"
   ]
  },
  {
   "cell_type": "markdown",
   "metadata": {},
   "source": [
    "# Check out the `postgis-helpers` module\n",
    "\n",
    "If you find yourself doing a lot of SQL work within Python, you may want to take a look at the [`postgis-helpers` module](https://github.com/aaronfraint/postgis-helpers).\n",
    "\n",
    "It includes a variety of helper functions for connection to PostgreSQL databases, loading data in, extracting data out, and modifying in-place."
   ]
  }
 ],
 "metadata": {
  "kernelspec": {
   "display_name": "Python 3",
   "language": "python",
   "name": "python3"
  },
  "language_info": {
   "codemirror_mode": {
    "name": "ipython",
    "version": 3
   },
   "file_extension": ".py",
   "mimetype": "text/x-python",
   "name": "python",
   "nbconvert_exporter": "python",
   "pygments_lexer": "ipython3",
   "version": "3.8.6"
  }
 },
 "nbformat": 4,
 "nbformat_minor": 4
}
