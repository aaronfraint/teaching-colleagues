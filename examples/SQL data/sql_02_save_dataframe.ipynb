{
 "cells": [
  {
   "cell_type": "markdown",
   "metadata": {},
   "source": [
    "# Save a `pandas` dataframe to SQL with `sqlalchemy`\n",
    "\n",
    "We will: \n",
    "- make a dataframe from a hosted Excel file\n",
    "- set all column names to lowercase\n",
    "- write to the database"
   ]
  },
  {
   "cell_type": "code",
   "execution_count": 1,
   "metadata": {},
   "outputs": [],
   "source": [
    "import pandas as pd\n",
    "import sqlalchemy"
   ]
  },
  {
   "cell_type": "markdown",
   "metadata": {},
   "source": [
    "### Read some data from the web into a dataframe"
   ]
  },
  {
   "cell_type": "code",
   "execution_count": 2,
   "metadata": {},
   "outputs": [],
   "source": [
    "url = 'https://www1.nyc.gov/assets/nypd/downloads/excel/analysis_and_planning/stop-question-frisk/sqf-2018.xlsx'\n",
    "\n",
    "df = pd.read_excel(url)"
   ]
  },
  {
   "cell_type": "code",
   "execution_count": 4,
   "metadata": {},
   "outputs": [],
   "source": [
    "# Clean up the dataframe before writing to SQL\n",
    "# For example, SQL column names may not use capital letter\n",
    "\n",
    "df.columns = [x.lower() for x in df.columns]"
   ]
  },
  {
   "cell_type": "markdown",
   "metadata": {},
   "source": [
    "### Define the PostgreSQL connection string"
   ]
  },
  {
   "cell_type": "code",
   "execution_count": 5,
   "metadata": {},
   "outputs": [],
   "source": [
    "MY_DB = \"teaching_bucket\"\n",
    "UN = \"aaron\"\n",
    "PW = \"my_password\"\n",
    "HOST = \"localhost\"\n",
    "\n",
    "db_uri = f\"postgresql://{UN}:{PW}@{HOST}:5432/{MY_DB}\""
   ]
  },
  {
   "cell_type": "markdown",
   "metadata": {},
   "source": [
    "### Connect to the database with `sqlalchemy` and then pass that connection into a the `pandas` `.to_sql()` function\n",
    "\n",
    "Make sure to `.dispose()` the connection afterwards!"
   ]
  },
  {
   "cell_type": "code",
   "execution_count": 6,
   "metadata": {},
   "outputs": [],
   "source": [
    "connection = sqlalchemy.create_engine(db_uri)\n",
    "\n",
    "df.to_sql(\"nyc_stop_frisk_2018\", connection, if_exists=\"replace\")\n",
    "\n",
    "connection.dispose()"
   ]
  }
 ],
 "metadata": {
  "kernelspec": {
   "display_name": "Python 3",
   "language": "python",
   "name": "python3"
  },
  "language_info": {
   "codemirror_mode": {
    "name": "ipython",
    "version": 3
   },
   "file_extension": ".py",
   "mimetype": "text/x-python",
   "name": "python",
   "nbconvert_exporter": "python",
   "pygments_lexer": "ipython3",
   "version": "3.8.6"
  }
 },
 "nbformat": 4,
 "nbformat_minor": 4
}
