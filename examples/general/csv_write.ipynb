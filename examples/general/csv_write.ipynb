{
 "cells": [
  {
   "cell_type": "markdown",
   "metadata": {},
   "source": [
    "# Using the ``csv`` module to write data to disk"
   ]
  },
  {
   "cell_type": "code",
   "execution_count": 4,
   "metadata": {},
   "outputs": [],
   "source": [
    "import csv"
   ]
  },
  {
   "cell_type": "markdown",
   "metadata": {},
   "source": [
    "### Writing CSV files is easiest when you format your data as a list of lists\n",
    "\n",
    "Notice that `sample_data` starts with a header list, and the subsequent lists below contain the actual data"
   ]
  },
  {
   "cell_type": "code",
   "execution_count": 5,
   "metadata": {},
   "outputs": [],
   "source": [
    "sample_data = [\n",
    "    [\"id\", \"city\", \"population_2019\"],\n",
    "    [1, \"New York City\", 8_336_817],\n",
    "    [2, \"Los Angeles\", 3_979_576],\n",
    "    [3, \"Chicago\", 2_693_976]\n",
    "]"
   ]
  },
  {
   "cell_type": "markdown",
   "metadata": {},
   "source": [
    "### Write the list of lists to file by iterating and writing one row at a time:\n",
    "\n",
    "Note that we create/open the CSV file within a `with` block. This means we don't have to worry about saving or closing the file at the end."
   ]
  },
  {
   "cell_type": "code",
   "execution_count": 7,
   "metadata": {},
   "outputs": [],
   "source": [
    "output_csv = \"./sample_data.csv\"\n",
    "\n",
    "with open(output_csv, \"w\", newline='') as csvfile:\n",
    "\n",
    "    writer = csv.writer(csvfile)\n",
    "\n",
    "    for row in sample_data:\n",
    "        writer.writerow(row)"
   ]
  },
  {
   "cell_type": "markdown",
   "metadata": {},
   "source": [
    "### Use your file browser to find and open ``sample_data.csv``\n",
    "\n",
    "Confirm that it matches the ``sample_data`` variable defined in this script"
   ]
  }
 ],
 "metadata": {
  "kernelspec": {
   "display_name": "Python 3",
   "language": "python",
   "name": "python3"
  },
  "language_info": {
   "codemirror_mode": {
    "name": "ipython",
    "version": 3
   },
   "file_extension": ".py",
   "mimetype": "text/x-python",
   "name": "python",
   "nbconvert_exporter": "python",
   "pygments_lexer": "ipython3",
   "version": "3.8.6"
  }
 },
 "nbformat": 4,
 "nbformat_minor": 4
}
