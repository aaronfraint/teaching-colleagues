{
 "cells": [
  {
   "cell_type": "markdown",
   "metadata": {},
   "source": [
    "# `datetime` module examples\n",
    "\n",
    "This module will allow you to get the current date/time and calculate deltas, among many functions.\n",
    "\n",
    "If you want to use the current timestamp as a suffix for a table name or database in SQL, you'll need to do a bit of string manipulation, as shown in the creation of the `clean_timestamp` variable at the bottom of this notebook.\n",
    "\n",
    "\n",
    "### Basic usage:"
   ]
  },
  {
   "cell_type": "code",
   "execution_count": 1,
   "metadata": {},
   "outputs": [],
   "source": [
    "from datetime import datetime"
   ]
  },
  {
   "cell_type": "code",
   "execution_count": 2,
   "metadata": {},
   "outputs": [],
   "source": [
    "# Get the timestamp for right now\n",
    "this_instant = datetime.now()"
   ]
  },
  {
   "cell_type": "code",
   "execution_count": 3,
   "metadata": {},
   "outputs": [
    {
     "name": "stdout",
     "output_type": "stream",
     "text": [
      "<class 'datetime.datetime'>\n"
     ]
    },
    {
     "data": {
      "text/plain": [
       "datetime.datetime(2020, 10, 30, 9, 29, 58, 385300)"
      ]
     },
     "execution_count": 3,
     "metadata": {},
     "output_type": "execute_result"
    }
   ],
   "source": [
    "# Let's inspect this item's type and representation\n",
    "print(type(this_instant))\n",
    "this_instant"
   ]
  },
  {
   "cell_type": "markdown",
   "metadata": {},
   "source": [
    "### You can use built-in `datetime` operations to extract the day and time:"
   ]
  },
  {
   "cell_type": "code",
   "execution_count": 9,
   "metadata": {},
   "outputs": [
    {
     "data": {
      "text/plain": [
       "(datetime.date(2020, 10, 30), datetime.time(9, 29, 58, 385300))"
      ]
     },
     "execution_count": 9,
     "metadata": {},
     "output_type": "execute_result"
    }
   ],
   "source": [
    "d = this_instant.date()\n",
    "t = this_instant.time()\n",
    "\n",
    "d, t"
   ]
  },
  {
   "cell_type": "markdown",
   "metadata": {},
   "source": [
    "### You can also convert `datetime` to a string:"
   ]
  },
  {
   "cell_type": "code",
   "execution_count": 14,
   "metadata": {},
   "outputs": [
    {
     "data": {
      "text/plain": [
       "'2020-10-30 09:29:58.385300'"
      ]
     },
     "execution_count": 14,
     "metadata": {},
     "output_type": "execute_result"
    }
   ],
   "source": [
    "timestamp_str = str(this_instant)\n",
    "\n",
    "timestamp_str"
   ]
  },
  {
   "cell_type": "markdown",
   "metadata": {},
   "source": [
    "### Use string-splitting to extract day and time"
   ]
  },
  {
   "cell_type": "code",
   "execution_count": 11,
   "metadata": {},
   "outputs": [
    {
     "data": {
      "text/plain": [
       "('2020-10-30', '09:29:58.385300')"
      ]
     },
     "execution_count": 11,
     "metadata": {},
     "output_type": "execute_result"
    }
   ],
   "source": [
    "d, t = timestamp_str.split(\" \")\n",
    "\n",
    "d, t"
   ]
  },
  {
   "cell_type": "code",
   "execution_count": 12,
   "metadata": {},
   "outputs": [
    {
     "data": {
      "text/plain": [
       "'09:29:58'"
      ]
     },
     "execution_count": 12,
     "metadata": {},
     "output_type": "execute_result"
    }
   ],
   "source": [
    "# Omit the miliseconds in the time\n",
    "t_no_miliseconds = t.split(\".\")[0]\n",
    "\n",
    "t_no_miliseconds"
   ]
  },
  {
   "cell_type": "markdown",
   "metadata": {},
   "source": [
    "### Convert a `datetime` object into a nicely-formatted string:\n",
    "\n",
    "The format of the resulting string is `YYYY_MM_DD_HH_MM_SS`"
   ]
  },
  {
   "cell_type": "code",
   "execution_count": 13,
   "metadata": {},
   "outputs": [
    {
     "data": {
      "text/plain": [
       "'2020_10_30_09_29_58'"
      ]
     },
     "execution_count": 13,
     "metadata": {},
     "output_type": "execute_result"
    }
   ],
   "source": [
    "d, t = str(this_instant).split(\" \")\n",
    "\n",
    "t = t.split(\".\")[0]\n",
    "\n",
    "# Replace unwanted characters in the time variable with an underscore\n",
    "t = t.replace(\":\", \"_\")\n",
    "    \n",
    "# Do the same for the date's dash\n",
    "d = d.replace(\"-\", \"_\")\n",
    "    \n",
    "clean_timestamp = f\"{d}_{t}\"\n",
    "\n",
    "\n",
    "clean_timestamp"
   ]
  }
 ],
 "metadata": {
  "kernelspec": {
   "display_name": "Python 3",
   "language": "python",
   "name": "python3"
  },
  "language_info": {
   "codemirror_mode": {
    "name": "ipython",
    "version": 3
   },
   "file_extension": ".py",
   "mimetype": "text/x-python",
   "name": "python",
   "nbconvert_exporter": "python",
   "pygments_lexer": "ipython3",
   "version": "3.8.6"
  }
 },
 "nbformat": 4,
 "nbformat_minor": 4
}
